{
 "cells": [
  {
   "cell_type": "code",
   "execution_count": 2,
   "metadata": {},
   "outputs": [],
   "source": [
    "import numpy as np\n",
    "import pandas as pd\n",
    "import datetime\n",
    "train = pd.read_csv('sales_train.csv')\n",
    "test = pd.read_csv('test.csv')\n",
    "shops = pd.read_csv('shops.csv')\n",
    "items = pd.read_csv('items.csv')\n",
    "items_categories = pd.read_csv('item_categories.csv')\n",
    "submission = pd.read_csv('sample_submission.csv')"
   ]
  },
  {
   "cell_type": "code",
   "execution_count": 5,
   "metadata": {},
   "outputs": [
    {
     "name": "stdout",
     "output_type": "stream",
     "text": [
      "<class 'pandas.core.frame.DataFrame'>\n",
      "RangeIndex: 2935849 entries, 0 to 2935848\n",
      "Data columns (total 6 columns):\n",
      "date              datetime64[ns]\n",
      "date_block_num    int64\n",
      "shop_id           int64\n",
      "item_id           int64\n",
      "item_price        float64\n",
      "item_cnt_day      float64\n",
      "dtypes: datetime64[ns](1), float64(2), int64(3)\n",
      "memory usage: 134.4 MB\n",
      "None\n"
     ]
    }
   ],
   "source": [
    "def preprocess_date(data):\n",
    "    '''\n",
    "    data['date'], data['month'], data['year'] = data['date'].str.split('.').str\n",
    "    data[['date']] = data[['date']].astype(int)\n",
    "    data[['month']] = data[['month']].astype(int)\n",
    "    data[['year']] = data[['year']].astype(int)\n",
    "    '''\n",
    "    data.date = data.date.apply(lambda x : datetime.datetime.strptime(x, '%d.%m.%Y'))\n",
    "    return data\n",
    "\n",
    "def preprocess(data):\n",
    "    return data\n",
    "\n",
    "# test if functions work\n",
    "# train = preprocess_date(train)\n",
    "# print(train.info())"
   ]
  },
  {
   "cell_type": "code",
   "execution_count": 10,
   "metadata": {},
   "outputs": [],
   "source": [
    "def groupby_dbn_shopid_item(data):\n",
    "    month_sales = data.groupby([\"date_block_num\",\"shop_id\",\"item_id\"])[\"date\",\"item_price\",\"item_cnt_day\"].agg({\"date\":[\"min\",\"max\"], \"item_price\":\"mean\", \"item_cnt_day\":\"sum\"})\n",
    "    return month_sales"
   ]
  }
 ],
 "metadata": {
  "kernelspec": {
   "display_name": "Python 3",
   "language": "python",
   "name": "python3"
  },
  "language_info": {
   "codemirror_mode": {
    "name": "ipython",
    "version": 3
   },
   "file_extension": ".py",
   "mimetype": "text/x-python",
   "name": "python",
   "nbconvert_exporter": "python",
   "pygments_lexer": "ipython3",
   "version": "3.7.1"
  }
 },
 "nbformat": 4,
 "nbformat_minor": 2
}
