{
 "cells": [
  {
   "cell_type": "code",
   "execution_count": null,
   "metadata": {},
   "outputs": [],
   "source": [
    "def preprocess_date(data):\n",
    "    data['month'], data['date'], data['year'] = data['date'].str.split('.').str\n",
    "    data[['month']] = data[['month']].astype(int)\n",
    "    data[['date']] = data[['date']].astype(int)\n",
    "    data[['year']] = data[['year']].astype(int)\n",
    "    return data\n",
    "\n",
    "\n",
    "def preprocess(data):\n",
    "    data = preprocess_date(data)\n",
    "    \n",
    "    \n",
    "    return data\n",
    "\n"
   ]
  },
  {
   "cell_type": "code",
   "execution_count": null,
   "metadata": {},
   "outputs": [],
   "source": [
    "def groupby_dbn_shopid_item(data)\n",
    "    \n",
    "    x_train = []\n",
    "    y_train = []\n",
    "    \n",
    "    return x_train, y_train"
   ]
  }
 ],
 "metadata": {
  "kernelspec": {
   "display_name": "Python 3",
   "language": "python",
   "name": "python3"
  },
  "language_info": {
   "codemirror_mode": {
    "name": "ipython",
    "version": 3
   },
   "file_extension": ".py",
   "mimetype": "text/x-python",
   "name": "python",
   "nbconvert_exporter": "python",
   "pygments_lexer": "ipython3",
   "version": "3.7.1"
  }
 },
 "nbformat": 4,
 "nbformat_minor": 2
}
