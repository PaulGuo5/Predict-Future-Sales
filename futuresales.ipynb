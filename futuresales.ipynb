{
 "cells": [
  {
   "cell_type": "code",
   "execution_count": 1,
   "metadata": {},
   "outputs": [],
   "source": [
    "import numpy as np\n",
    "import pandas as pd\n",
    "import matplotlib.pyplot as plt\n",
    "from sklearn.neighbors import KNeighborsClassifier \n",
    "from sklearn.ensemble import RandomForestRegressor\n",
    "import numpy as np\n",
    "from sklearn.model_selection import train_test_split, cross_val_score\n",
    "from sklearn import preprocessing\n",
    "import statsmodels.formula.api as smf\n",
    "from pandas import read_csv\n",
    "import pandas as pd\n",
    "from collections import Counter\n",
    "\n",
    "from sklearn.preprocessing import StandardScaler\n",
    "%matplotlib inline\n",
    "\n",
    "train = pd.read_csv('dataset/sales_train.csv')\n",
    "test = pd.read_csv('dataset/test.csv')\n",
    "shops = pd.read_csv('dataset/shops.csv')\n",
    "items = pd.read_csv('dataset/items.csv')\n",
    "items_categories = pd.read_csv('dataset/item_categories.csv')\n",
    "#train.describe()"
   ]
  },
  {
   "cell_type": "code",
   "execution_count": 2,
   "metadata": {},
   "outputs": [
    {
     "name": "stdout",
     "output_type": "stream",
     "text": [
      "   date  date_block_num  shop_id  item_id  item_price  item_cnt_day  month  \\\n",
      "0     1               0       59    22154      999.00           1.0      2   \n",
      "1     1               0       25     2552      899.00           1.0      3   \n",
      "2     1               0       25     2552      899.00          -1.0      5   \n",
      "3     1               0       25     2554     1709.05           1.0      6   \n",
      "4     1               0       25     2555     1099.00           1.0     15   \n",
      "\n",
      "   year  \n",
      "0  2013  \n",
      "1  2013  \n",
      "2  2013  \n",
      "3  2013  \n",
      "4  2013  \n"
     ]
    }
   ],
   "source": [
    "def preprocess_date(data):\n",
    "    data['month'], data['date'], data['year'] = data['date'].str.split('.').str\n",
    "    \n",
    "    data[['month']] = data[['month']].astype(int)\n",
    "    data[['date']] = data[['date']].astype(int)\n",
    "    data[['year']] = data[['year']].astype(int)\n",
    "    return data\n",
    "    \n",
    "print(preprocess_date(train).head())"
   ]
  }
 ],
 "metadata": {
  "kernelspec": {
   "display_name": "Python 3",
   "language": "python",
   "name": "python3"
  },
  "language_info": {
   "codemirror_mode": {
    "name": "ipython",
    "version": 3
   },
   "file_extension": ".py",
   "mimetype": "text/x-python",
   "name": "python",
   "nbconvert_exporter": "python",
   "pygments_lexer": "ipython3",
   "version": "3.7.1"
  }
 },
 "nbformat": 4,
 "nbformat_minor": 2
}
