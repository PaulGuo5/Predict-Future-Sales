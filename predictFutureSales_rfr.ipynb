{
 "cells": [
  {
   "cell_type": "code",
   "execution_count": 30,
   "metadata": {},
   "outputs": [
    {
     "data": {
      "text/html": [
       "<div>\n",
       "<style scoped>\n",
       "    .dataframe tbody tr th:only-of-type {\n",
       "        vertical-align: middle;\n",
       "    }\n",
       "\n",
       "    .dataframe tbody tr th {\n",
       "        vertical-align: top;\n",
       "    }\n",
       "\n",
       "    .dataframe thead th {\n",
       "        text-align: right;\n",
       "    }\n",
       "</style>\n",
       "<table border=\"1\" class=\"dataframe\">\n",
       "  <thead>\n",
       "    <tr style=\"text-align: right;\">\n",
       "      <th></th>\n",
       "      <th>date_block_num</th>\n",
       "      <th>shop_id</th>\n",
       "      <th>item_id</th>\n",
       "      <th>item_price</th>\n",
       "      <th>item_cnt_day</th>\n",
       "    </tr>\n",
       "  </thead>\n",
       "  <tbody>\n",
       "    <tr>\n",
       "      <th>count</th>\n",
       "      <td>2.935849e+06</td>\n",
       "      <td>2.935849e+06</td>\n",
       "      <td>2.935849e+06</td>\n",
       "      <td>2.935849e+06</td>\n",
       "      <td>2.935849e+06</td>\n",
       "    </tr>\n",
       "    <tr>\n",
       "      <th>mean</th>\n",
       "      <td>1.456991e+01</td>\n",
       "      <td>3.300173e+01</td>\n",
       "      <td>1.019723e+04</td>\n",
       "      <td>8.908532e+02</td>\n",
       "      <td>1.242641e+00</td>\n",
       "    </tr>\n",
       "    <tr>\n",
       "      <th>std</th>\n",
       "      <td>9.422988e+00</td>\n",
       "      <td>1.622697e+01</td>\n",
       "      <td>6.324297e+03</td>\n",
       "      <td>1.729800e+03</td>\n",
       "      <td>2.618834e+00</td>\n",
       "    </tr>\n",
       "    <tr>\n",
       "      <th>min</th>\n",
       "      <td>0.000000e+00</td>\n",
       "      <td>0.000000e+00</td>\n",
       "      <td>0.000000e+00</td>\n",
       "      <td>-1.000000e+00</td>\n",
       "      <td>-2.200000e+01</td>\n",
       "    </tr>\n",
       "    <tr>\n",
       "      <th>25%</th>\n",
       "      <td>7.000000e+00</td>\n",
       "      <td>2.200000e+01</td>\n",
       "      <td>4.476000e+03</td>\n",
       "      <td>2.490000e+02</td>\n",
       "      <td>1.000000e+00</td>\n",
       "    </tr>\n",
       "    <tr>\n",
       "      <th>50%</th>\n",
       "      <td>1.400000e+01</td>\n",
       "      <td>3.100000e+01</td>\n",
       "      <td>9.343000e+03</td>\n",
       "      <td>3.990000e+02</td>\n",
       "      <td>1.000000e+00</td>\n",
       "    </tr>\n",
       "    <tr>\n",
       "      <th>75%</th>\n",
       "      <td>2.300000e+01</td>\n",
       "      <td>4.700000e+01</td>\n",
       "      <td>1.568400e+04</td>\n",
       "      <td>9.990000e+02</td>\n",
       "      <td>1.000000e+00</td>\n",
       "    </tr>\n",
       "    <tr>\n",
       "      <th>max</th>\n",
       "      <td>3.300000e+01</td>\n",
       "      <td>5.900000e+01</td>\n",
       "      <td>2.216900e+04</td>\n",
       "      <td>3.079800e+05</td>\n",
       "      <td>2.169000e+03</td>\n",
       "    </tr>\n",
       "  </tbody>\n",
       "</table>\n",
       "</div>"
      ],
      "text/plain": [
       "       date_block_num       shop_id       item_id    item_price  item_cnt_day\n",
       "count    2.935849e+06  2.935849e+06  2.935849e+06  2.935849e+06  2.935849e+06\n",
       "mean     1.456991e+01  3.300173e+01  1.019723e+04  8.908532e+02  1.242641e+00\n",
       "std      9.422988e+00  1.622697e+01  6.324297e+03  1.729800e+03  2.618834e+00\n",
       "min      0.000000e+00  0.000000e+00  0.000000e+00 -1.000000e+00 -2.200000e+01\n",
       "25%      7.000000e+00  2.200000e+01  4.476000e+03  2.490000e+02  1.000000e+00\n",
       "50%      1.400000e+01  3.100000e+01  9.343000e+03  3.990000e+02  1.000000e+00\n",
       "75%      2.300000e+01  4.700000e+01  1.568400e+04  9.990000e+02  1.000000e+00\n",
       "max      3.300000e+01  5.900000e+01  2.216900e+04  3.079800e+05  2.169000e+03"
      ]
     },
     "execution_count": 30,
     "metadata": {},
     "output_type": "execute_result"
    }
   ],
   "source": [
    "import numpy as np\n",
    "import pandas as pd\n",
    "import matplotlib.pyplot as plt\n",
    "from sklearn.neighbors import KNeighborsClassifier \n",
    "from sklearn.ensemble import RandomForestRegressor\n",
    "import numpy as np\n",
    "from sklearn.model_selection import train_test_split, cross_val_score\n",
    "from sklearn.preprocessing import OneHotEncoder\n",
    "import statsmodels.formula.api as smf\n",
    "from pandas import read_csv\n",
    "import pandas as pd\n",
    "from collections import Counter\n",
    "\n",
    "from sklearn.preprocessing import StandardScaler\n",
    "%matplotlib inline\n",
    "\n",
    "train = pd.read_csv('dataset/sales_train.csv')\n",
    "test = pd.read_csv('dataset/test.csv')\n",
    "shops = pd.read_csv('dataset/shops.csv')\n",
    "items = pd.read_csv('dataset/items.csv')\n",
    "items_categories = pd.read_csv('dataset/item_categories.csv')\n",
    "submission = pd.read_csv('sample_submission.csv')\n",
    "train.describe()"
   ]
  },
  {
   "cell_type": "code",
   "execution_count": 11,
   "metadata": {},
   "outputs": [
    {
     "name": "stdout",
     "output_type": "stream",
     "text": [
      "1034\n",
      "1034\n"
     ]
    }
   ],
   "source": [
    "from datetime import datetime\n",
    "\n",
    "#find missing date\n",
    "def datekey(item):\n",
    "    date, _ = item\n",
    "    #print(date)\n",
    "    d, m, y = date.split('.')\n",
    "    #print(y+m+d)\n",
    "    return y+m+d\n",
    "\n",
    "def getdatelist(beginDate, endDate):\n",
    "    date_l=[datetime.strftime(x,'%d.%m.%Y') for x in list(pd.date_range(start=beginDate, end=endDate))]\n",
    "    return date_l\n",
    "\n",
    "datelist = Counter(train['date'])\n",
    "datelist = sorted(datelist.items(), key=datekey)\n",
    "print(len(datelist))\n",
    "#01.01.2013 - 31.10.2015\n",
    "\n",
    "fulldatelist = getdatelist('20130101', '20151031')\n",
    "print(len(fulldatelist))"
   ]
  },
  {
   "cell_type": "code",
   "execution_count": 12,
   "metadata": {},
   "outputs": [
    {
     "name": "stdout",
     "output_type": "stream",
     "text": [
      "Counter({-0.09265225918911581: 2163, 0.2891970698525116: 136, 0.671046398894139: 20, -0.8563509172723706: 3, 1.0528957279357665: 2, 6.0169370054769225: 1})\n",
      "item_id: 2574\n"
     ]
    },
    {
     "data": {
      "image/png": "[encoded data removed]",
      "text/plain": [
       "<Figure size 432x288 with 1 Axes>"
      ]
     },
     "metadata": {},
     "output_type": "display_data"
    }
   ],
   "source": [
    "#sale month\n",
    "def bar_sale_item(data, itemid):\n",
    "    selected_data = data[data.item_id==itemid]\n",
    "    selected_item_cnt_day = selected_data['item_cnt_day']\n",
    "    print(Counter(selected_item_cnt_day))\n",
    "    print(\"item_id:\",itemid)\n",
    "    plt.xlim((0,33))\n",
    "    plt.bar(selected_data['date_block_num'], selected_data['item_cnt_day'])\n",
    "    return\n",
    "\n",
    "#Counter(train['date_block_num']) #34months\n",
    "bar_sale_item(train, 2574)"
   ]
  },
  {
   "cell_type": "code",
   "execution_count": 13,
   "metadata": {},
   "outputs": [
    {
     "name": "stdout",
     "output_type": "stream",
     "text": [
      "-4731.634659903138\n",
      "3372.856937664204\n",
      "1358.7777221737595\n"
     ]
    },
    {
     "data": {
      "image/png": "[encoded data removed]",
      "text/plain": [
       "<Figure size 432x288 with 1 Axes>"
      ]
     },
     "metadata": {},
     "output_type": "display_data"
    }
   ],
   "source": [
    "def bar_sale_year(data):\n",
    "    data['year'] = data['date'].str.split('.').str[2]\n",
    "    total_sale = []\n",
    "    for i in range(2013, 2016):\n",
    "        selected_data = data[data.year==str(i)]\n",
    "        print(sum(selected_data['item_cnt_day']))\n",
    "        total_sale.append(sum(selected_data['item_cnt_day']))\n",
    "    plt.bar(range(2013,2016), total_sale)\n",
    "    return\n",
    "\n",
    "bar_sale_year(train)"
   ]
  },
  {
   "cell_type": "code",
   "execution_count": 14,
   "metadata": {},
   "outputs": [
    {
     "name": "stdout",
     "output_type": "stream",
     "text": [
      "[0, 1, 2, 3, 4, 5, 6, 7, 8, 9, 10, 11, 12, 13, 14, 15, 16, 17, 18, 19, 20, 21, 22, 23, 24, 25, 26, 27, 28, 29, 30, 31, 32, 33, 34, 35, 36, 37, 38, 39, 40, 41, 42, 43, 44, 45, 46, 47, 48, 49, 50, 51, 52, 53, 54, 55, 56, 57, 58, 59]\n"
     ]
    },
    {
     "data": {
      "image/png": "[encoded data removed]",
      "text/plain": [
       "<Figure size 432x288 with 1 Axes>"
      ]
     },
     "metadata": {},
     "output_type": "display_data"
    }
   ],
   "source": [
    "def bar_sale_shopid(data):\n",
    "    shopidlist = sorted(Counter(data['shop_id']))\n",
    "    print(shopidlist)\n",
    "    sale_of_shopid_list = []\n",
    "    for i in shopidlist:\n",
    "        selecteddata = data[data.shop_id==i]\n",
    "        sale_of_shopid_list.append(sum(selecteddata['item_cnt_day']))\n",
    "    plt.bar(shopidlist, sale_of_shopid_list)\n",
    "    return\n",
    "\n",
    "bar_sale_shopid(train)"
   ]
  },
  {
   "cell_type": "code",
   "execution_count": 15,
   "metadata": {},
   "outputs": [
    {
     "name": "stdout",
     "output_type": "stream",
     "text": [
      "[0, 1, 2, 3, 4, 5, 6, 7, 8, 9, 10, 11, 12, 13, 14, 15, 16, 17, 18, 19, 20, 21, 22, 23, 24, 25, 26, 27, 28, 29, 30, 31, 32, 33, 34, 35, 36, 37, 38, 39, 40, 41, 42, 43, 44, 45, 46, 47, 48, 49, 50, 51, 52, 53, 54, 55, 56, 57, 58, 59]\n"
     ]
    },
    {
     "data": {
      "image/png": "[encoded data removed]",
      "text/plain": [
       "<Figure size 432x288 with 1 Axes>"
      ]
     },
     "metadata": {},
     "output_type": "display_data"
    }
   ],
   "source": [
    "#sale shopid\n",
    "def saleitem_shopid(data, itemid):\n",
    "    shopidlist = sorted(Counter(data['shop_id']))\n",
    "    print(shopidlist)\n",
    "    sale_of_shopid_list = []\n",
    "    '''\n",
    "    for i in shopidlist:\n",
    "        print('shop',i)\n",
    "        selecteddata = data[data.shop_id==i]\n",
    "        g = selecteddata.groupby('item_id')\n",
    "        print(g['item_cnt_day'].sum())\n",
    "    '''\n",
    "    sale_of_item = []\n",
    "    for i in shopidlist:\n",
    "        selecteddata = data[(data.shop_id==i) & (data.item_id==itemid)]\n",
    "        sale_of_item.append(sum(selecteddata['item_cnt_day']))\n",
    "    plt.bar(shopidlist, sale_of_item)\n",
    "    return\n",
    "\n",
    "saleitem_shopid(train, 30)"
   ]
  },
  {
   "cell_type": "code",
   "execution_count": 16,
   "metadata": {},
   "outputs": [
    {
     "data": {
      "image/png": "[encoded data removed]",
      "text/plain": [
       "<Figure size 432x288 with 1 Axes>"
      ]
     },
     "metadata": {},
     "output_type": "display_data"
    }
   ],
   "source": [
    "#month(x) item cnt day(y)\n",
    "def bar_month_itemcntday(data):\n",
    "    g = data.groupby('date_block_num')\n",
    "    date_item = g['item_cnt_day'].sum()\n",
    "    plt.bar(range(34), date_item)\n",
    "    return\n",
    "\n",
    "#Counter(train['date_block_num']) #34months\n",
    "bar_month_itemcntday(train)"
   ]
  },
  {
   "cell_type": "code",
   "execution_count": 25,
   "metadata": {},
   "outputs": [],
   "source": [
    "gp = train.groupby(['date_block_num', 'shop_id', 'item_id']).agg({'item_cnt_day': ['sum']})\n",
    "X = np.array(list(map(list, gp.index.values)))\n",
    "Y_train = gp.values\n",
    "test['date_block_num'] = train['date_block_num'].max() + 1\n",
    "X_test = test[['date_block_num', 'shop_id', 'item_id']].values"
   ]
  },
  {
   "cell_type": "code",
   "execution_count": 26,
   "metadata": {},
   "outputs": [],
   "source": [
    "oh0 = OneHotEncoder().fit(X[:,0].reshape(-1, 1))\n",
    "x0 = oh0.transform(X[:,0].reshape(-1, 1))\n",
    "oh1 = OneHotEncoder().fit(X[:,1].reshape(-1, 1))\n",
    "x1 = oh1.transform(X[:,1].reshape(-1, 1))\n",
    "x1_t = oh1.transform(X_test[:,1].reshape(-1, 1))\n",
    "X_train = np.concatenate((X[:, :1], x1.toarray(), X[:, 2:]), axis=1)\n",
    "X_test = np.concatenate((X_test[:, :1], x1_t.toarray(), X_test[:, 2:]), axis=1)"
   ]
  },
  {
   "cell_type": "code",
   "execution_count": 27,
   "metadata": {},
   "outputs": [],
   "source": [
    "rfr = RandomForestRegressor().fit(X_train, Y_train.ravel())"
   ]
  },
  {
   "cell_type": "code",
   "execution_count": 31,
   "metadata": {},
   "outputs": [],
   "source": [
    "Y_test = rfr.predict(X_test)\n",
    "submission['item_cnt_month'] = Y_test\n",
    "submission.to_csv('submission.csv', index=False)"
   ]
  }
 ],
 "metadata": {
  "kernelspec": {
   "display_name": "Python 3",
   "language": "python",
   "name": "python3"
  },
  "language_info": {
   "codemirror_mode": {
    "name": "ipython",
    "version": 3
   },
   "file_extension": ".py",
   "mimetype": "text/x-python",
   "name": "python",
   "nbconvert_exporter": "python",
   "pygments_lexer": "ipython3",
   "version": "3.6.5"
  }
 },
 "nbformat": 4,
 "nbformat_minor": 2
}
