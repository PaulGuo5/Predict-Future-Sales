{
 "cells": [
  {
   "cell_type": "code",
   "execution_count": 1,
   "metadata": {},
   "outputs": [
    {
     "name": "stdout",
     "output_type": "stream",
     "text": [
      "   date  date_block_num  shop_id  item_id  item_price  item_cnt_day  month  \\\n",
      "0     1               0       59    22154      999.00           1.0      2   \n",
      "1     1               0       25     2552      899.00           1.0      3   \n",
      "2     1               0       25     2552      899.00          -1.0      5   \n",
      "3     1               0       25     2554     1709.05           1.0      6   \n",
      "4     1               0       25     2555     1099.00           1.0     15   \n",
      "\n",
      "   year  \n",
      "0  2013  \n",
      "1  2013  \n",
      "2  2013  \n",
      "3  2013  \n",
      "4  2013  \n"
     ]
    }
   ],
   "source": [
    "import numpy as np\n",
    "import pandas as pd\n",
    "import matplotlib.pyplot as plt\n",
    "from sklearn.neighbors import KNeighborsClassifier\n",
    "from sklearn.neighbors import KNeighborsRegressor\n",
    "from sklearn.ensemble import RandomForestRegressor\n",
    "import numpy as np\n",
    "from sklearn.model_selection import train_test_split, cross_val_score\n",
    "from sklearn import preprocessing\n",
    "import statsmodels.formula.api as smf\n",
    "from pandas import read_csv\n",
    "import pandas as pd\n",
    "from collections import Counter\n",
    "from sklearn.preprocessing import OneHotEncoder\n",
    "from sklearn.preprocessing import StandardScaler\n",
    "from sklearn.linear_model import LinearRegression\n",
    "\n",
    "%matplotlib inline\n",
    "\n",
    "train = pd.read_csv('dataset/sales_train.csv')\n",
    "test = pd.read_csv('dataset/test.csv')\n",
    "shops = pd.read_csv('dataset/shops.csv')\n",
    "items = pd.read_csv('dataset/items.csv')\n",
    "items_categories = pd.read_csv('dataset/item_categories.csv')\n",
    "#train.describe()\n",
    "\n",
    "def preprocess_date(data):\n",
    "    data['month'], data['date'], data['year'] = data['date'].str.split('.').str\n",
    "    data[['month']] = data[['month']].astype(int)\n",
    "    data[['date']] = data[['date']].astype(int)\n",
    "    data[['year']] = data[['year']].astype(int)\n",
    "    return data\n",
    "    \n",
    "print(preprocess_date(train).head())"
   ]
  },
  {
   "cell_type": "code",
   "execution_count": 2,
   "metadata": {},
   "outputs": [
    {
     "name": "stderr",
     "output_type": "stream",
     "text": [
      "/anaconda3/lib/python3.7/site-packages/sklearn/preprocessing/_encoders.py:368: FutureWarning: The handling of integer data will change in version 0.22. Currently, the categories are determined based on the range [0, max(values)], while in the future they will be determined based on the unique values.\n",
      "If you want the future behaviour and silence this warning, you can specify \"categories='auto'\".\n",
      "In case you used a LabelEncoder before this OneHotEncoder to convert the categories to integers, then you can now use the OneHotEncoder directly.\n",
      "  warnings.warn(msg, FutureWarning)\n",
      "/anaconda3/lib/python3.7/site-packages/sklearn/preprocessing/_encoders.py:368: FutureWarning: The handling of integer data will change in version 0.22. Currently, the categories are determined based on the range [0, max(values)], while in the future they will be determined based on the unique values.\n",
      "If you want the future behaviour and silence this warning, you can specify \"categories='auto'\".\n",
      "In case you used a LabelEncoder before this OneHotEncoder to convert the categories to integers, then you can now use the OneHotEncoder directly.\n",
      "  warnings.warn(msg, FutureWarning)\n"
     ]
    }
   ],
   "source": [
    "gp = train.groupby(['date_block_num', 'shop_id', 'item_id']).agg({'item_cnt_day': ['sum']})\n",
    "X = np.array(list(map(list, gp.index.values)))\n",
    "Y_train = gp.values\n",
    "test['date_block_num'] = train['date_block_num'].max() + 1\n",
    "X_test = test[['date_block_num', 'shop_id', 'item_id']].values\n",
    "\n",
    "oh0 = OneHotEncoder().fit(X[:,0].reshape(-1, 1))\n",
    "x0 = oh0.transform(X[:,0].reshape(-1, 1))\n",
    "oh1 = OneHotEncoder().fit(X[:,1].reshape(-1, 1))\n",
    "x1 = oh1.transform(X[:,1].reshape(-1, 1))\n",
    "x1_t = oh1.transform(X_test[:,1].reshape(-1, 1))\n",
    "X_train = np.concatenate((X[:, :1], x1.toarray(), X[:, 2:]), axis=1)\n",
    "X_test = np.concatenate((X_test[:, :1], x1_t.toarray(), X_test[:, 2:]), axis=1)\n"
   ]
  },
  {
   "cell_type": "code",
   "execution_count": 7,
   "metadata": {},
   "outputs": [
    {
     "ename": "AttributeError",
     "evalue": "'numpy.ndarray' object has no attribute 'as_matrix'",
     "output_type": "error",
     "traceback": [
      "\u001b[0;31m---------------------------------------------------------------------------\u001b[0m",
      "\u001b[0;31mAttributeError\u001b[0m                            Traceback (most recent call last)",
      "\u001b[0;32m<ipython-input-7-36811f609ee4>\u001b[0m in \u001b[0;36m<module>\u001b[0;34m\u001b[0m\n\u001b[1;32m      3\u001b[0m \u001b[0;32mimport\u001b[0m \u001b[0mxgboost\u001b[0m \u001b[0;32mas\u001b[0m \u001b[0mxgb\u001b[0m\u001b[0;34m\u001b[0m\u001b[0;34m\u001b[0m\u001b[0m\n\u001b[1;32m      4\u001b[0m \u001b[0;34m\u001b[0m\u001b[0m\n\u001b[0;32m----> 5\u001b[0;31m \u001b[0mxgb_model\u001b[0m \u001b[0;34m=\u001b[0m \u001b[0mxgb\u001b[0m\u001b[0;34m.\u001b[0m\u001b[0mtrain\u001b[0m\u001b[0;34m(\u001b[0m\u001b[0mX_train\u001b[0m\u001b[0;34m.\u001b[0m\u001b[0mas_matrix\u001b[0m\u001b[0;34m(\u001b[0m\u001b[0;34m)\u001b[0m\u001b[0;34m,\u001b[0m \u001b[0mY_train\u001b[0m\u001b[0;34m.\u001b[0m\u001b[0mas_matrix\u001b[0m\u001b[0;34m(\u001b[0m\u001b[0;34m)\u001b[0m\u001b[0;34m)\u001b[0m\u001b[0;34m\u001b[0m\u001b[0;34m\u001b[0m\u001b[0m\n\u001b[0m",
      "\u001b[0;31mAttributeError\u001b[0m: 'numpy.ndarray' object has no attribute 'as_matrix'"
     ]
    }
   ],
   "source": [
    "#xgboost\n",
    "\n",
    "import xgboost as xgb\n",
    "\n",
    "xgb_model = xgb.train(X_train.as_matrix(), Y_train.as_matrix())\n"
   ]
  },
  {
   "cell_type": "code",
   "execution_count": null,
   "metadata": {},
   "outputs": [],
   "source": []
  }
 ],
 "metadata": {
  "kernelspec": {
   "display_name": "Python 3",
   "language": "python",
   "name": "python3"
  },
  "language_info": {
   "codemirror_mode": {
    "name": "ipython",
    "version": 3
   },
   "file_extension": ".py",
   "mimetype": "text/x-python",
   "name": "python",
   "nbconvert_exporter": "python",
   "pygments_lexer": "ipython3",
   "version": "3.7.1"
  }
 },
 "nbformat": 4,
 "nbformat_minor": 2
}
